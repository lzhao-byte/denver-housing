{
 "cells": [
  {
   "cell_type": "markdown",
   "metadata": {},
   "source": [
    "## Single-family House Median Price Prediction by Neighborhood in Denver \n",
    "* Pick a neighbourhood and see the trend of house median price in Denver"
   ]
  },
  {
   "cell_type": "code",
   "execution_count": 4,
   "metadata": {},
   "outputs": [],
   "source": [
    "# import essential libraries\n",
    "import pandas as pd\n",
    "import numpy as np\n",
    "import matplotlib.pyplot as plt\n",
    "%matplotlib inline\n",
    "import geopandas as geopd\n",
    "import seaborn as sns\n",
    "import sklearn"
   ]
  },
  {
   "cell_type": "markdown",
   "metadata": {},
   "source": [
    "### Data Preparation\n",
    "#### Step 1: Load data and group sale records to neighborhood level\n",
    "* Data needed: cleaned_house_records.csv\n",
    "* Original dataset (cleaned_house_records.csv) has single family house sales from 2000 to 2010 in Denver. Each sale record has the sale price, sale year, house features and neighborhood features\n",
    "* Column['NBHD_ID'] stands for neighborhood ID."
   ]
  },
  {
   "cell_type": "code",
   "execution_count": 5,
   "metadata": {},
   "outputs": [
    {
     "name": "stdout",
     "output_type": "stream",
     "text": [
      "Columns:  49 \n",
      " ['Unnamed: 0', 'AGE', 'AREA_ABG', 'AVG_HH_INC', 'BACHELORSO', 'BED_RMS', 'BSMT_AREA', 'CCAGE_RM', 'CCYRBLT', 'Colleges', 'Crimes', 'DrugDist', 'FBSMT_SQFT', 'FoodStores', 'GRD_AREA', 'HOUSING_UN', 'Intersects', 'K12s', 'LAND_SQFT', 'LESSTHANHS', 'Libraries', 'Malls', 'Marijuana', 'MaxPctRace', 'NBHD_ID', 'PCT_AGE65P', 'PCT_AGELES', 'PCT_SOLD', 'PCT_VAC', 'PER_CAPITA', 'POP_YEAR', 'ParkDist', 'Park_Coverage', 'Remodeled', 'SALE_MONTH', 'SALE_PRICE', 'SALE_PRICE_CPI_ADJ', 'SALE_YEAR', 'SCHEDNUM', 'STORY', 'StLights', 'StoreDist', 'TrAccident', 'Tree_Coverage', 'BATH_RMS', 'PER_COMM', 'MaxRaceTyp_BLACK', 'MaxRaceTyp_HISPAN', 'MaxRaceTyp_WHITE']\n"
     ]
    }
   ],
   "source": [
    "df = pd.read_csv('../Data/cleaned_house_records.csv')\n",
    "\n",
    "print('Columns: ', len(df.columns),'\\n', list(df.columns))"
   ]
  },
  {
   "cell_type": "code",
   "execution_count": 6,
   "metadata": {},
   "outputs": [
    {
     "data": {
      "image/png": "[encoded data removed]",
      "text/plain": [
       "<Figure size 432x288 with 1 Axes>"
      ]
     },
     "metadata": {
      "needs_background": "light"
     },
     "output_type": "display_data"
    }
   ],
   "source": [
    "df_grouped = df.groupby(['NBHD_ID', 'SALE_YEAR']).median().reset_index()\n",
    "df_grouped.drop(columns = ['Unnamed: 0'], inplace=True)\n",
    "\n",
    "sns.lineplot(x='SALE_YEAR', y=\"SALE_PRICE\",\n",
    "                  data=df_grouped[df_grouped['NBHD_ID'] == 4])\n",
    "plt.show()\n",
    "\n",
    "df_grouped.to_csv('../Data/timed_median_prices.csv')"
   ]
  },
  {
   "cell_type": "code",
   "execution_count": 7,
   "metadata": {
    "scrolled": true
   },
   "outputs": [
    {
     "name": "stdout",
     "output_type": "stream",
     "text": [
      "Data Dimension: (20, 68) , should totaled: 1360 , missing data: 8\n"
     ]
    },
    {
     "data": {
      "text/html": [
       "<div>\n",
       "<style scoped>\n",
       "    .dataframe tbody tr th:only-of-type {\n",
       "        vertical-align: middle;\n",
       "    }\n",
       "\n",
       "    .dataframe tbody tr th {\n",
       "        vertical-align: top;\n",
       "    }\n",
       "\n",
       "    .dataframe thead th {\n",
       "        text-align: right;\n",
       "    }\n",
       "</style>\n",
       "<table border=\"1\" class=\"dataframe\">\n",
       "  <thead>\n",
       "    <tr style=\"text-align: right;\">\n",
       "      <th>NBHD_ID</th>\n",
       "      <th>1</th>\n",
       "      <th>3</th>\n",
       "      <th>4</th>\n",
       "      <th>5</th>\n",
       "      <th>6</th>\n",
       "      <th>7</th>\n",
       "      <th>8</th>\n",
       "      <th>9</th>\n",
       "      <th>11</th>\n",
       "      <th>12</th>\n",
       "      <th>...</th>\n",
       "      <th>68</th>\n",
       "      <th>69</th>\n",
       "      <th>70</th>\n",
       "      <th>71</th>\n",
       "      <th>72</th>\n",
       "      <th>73</th>\n",
       "      <th>74</th>\n",
       "      <th>75</th>\n",
       "      <th>76</th>\n",
       "      <th>77</th>\n",
       "    </tr>\n",
       "    <tr>\n",
       "      <th>SALE_YEAR</th>\n",
       "      <th></th>\n",
       "      <th></th>\n",
       "      <th></th>\n",
       "      <th></th>\n",
       "      <th></th>\n",
       "      <th></th>\n",
       "      <th></th>\n",
       "      <th></th>\n",
       "      <th></th>\n",
       "      <th></th>\n",
       "      <th></th>\n",
       "      <th></th>\n",
       "      <th></th>\n",
       "      <th></th>\n",
       "      <th></th>\n",
       "      <th></th>\n",
       "      <th></th>\n",
       "      <th></th>\n",
       "      <th></th>\n",
       "      <th></th>\n",
       "      <th></th>\n",
       "    </tr>\n",
       "  </thead>\n",
       "  <tbody>\n",
       "    <tr>\n",
       "      <th>2015</th>\n",
       "      <td>235000.0</td>\n",
       "      <td>399500.0</td>\n",
       "      <td>211500.0</td>\n",
       "      <td>210000.0</td>\n",
       "      <td>305500.0</td>\n",
       "      <td>811020.0</td>\n",
       "      <td>422000.0</td>\n",
       "      <td>649000.0</td>\n",
       "      <td>252500.0</td>\n",
       "      <td>661500.0</td>\n",
       "      <td>...</td>\n",
       "      <td>203250.0</td>\n",
       "      <td>353100.0</td>\n",
       "      <td>781500.0</td>\n",
       "      <td>575000.0</td>\n",
       "      <td>347450.0</td>\n",
       "      <td>656000.0</td>\n",
       "      <td>378000.0</td>\n",
       "      <td>502000.0</td>\n",
       "      <td>187000.0</td>\n",
       "      <td>429201.0</td>\n",
       "    </tr>\n",
       "    <tr>\n",
       "      <th>2016</th>\n",
       "      <td>263875.0</td>\n",
       "      <td>460000.0</td>\n",
       "      <td>227500.0</td>\n",
       "      <td>230000.0</td>\n",
       "      <td>345000.0</td>\n",
       "      <td>960000.0</td>\n",
       "      <td>460000.0</td>\n",
       "      <td>610906.0</td>\n",
       "      <td>289950.0</td>\n",
       "      <td>740000.0</td>\n",
       "      <td>...</td>\n",
       "      <td>227000.0</td>\n",
       "      <td>407000.0</td>\n",
       "      <td>887500.0</td>\n",
       "      <td>580000.0</td>\n",
       "      <td>445000.0</td>\n",
       "      <td>650000.0</td>\n",
       "      <td>477000.0</td>\n",
       "      <td>530000.0</td>\n",
       "      <td>225000.0</td>\n",
       "      <td>475000.0</td>\n",
       "    </tr>\n",
       "    <tr>\n",
       "      <th>2017</th>\n",
       "      <td>302470.0</td>\n",
       "      <td>470000.0</td>\n",
       "      <td>275000.0</td>\n",
       "      <td>289500.0</td>\n",
       "      <td>370500.0</td>\n",
       "      <td>1125000.0</td>\n",
       "      <td>493500.0</td>\n",
       "      <td>790000.0</td>\n",
       "      <td>348800.0</td>\n",
       "      <td>708750.0</td>\n",
       "      <td>...</td>\n",
       "      <td>300000.0</td>\n",
       "      <td>450000.0</td>\n",
       "      <td>915000.0</td>\n",
       "      <td>656000.0</td>\n",
       "      <td>435000.0</td>\n",
       "      <td>650000.0</td>\n",
       "      <td>472500.0</td>\n",
       "      <td>580000.0</td>\n",
       "      <td>258850.0</td>\n",
       "      <td>526000.0</td>\n",
       "    </tr>\n",
       "    <tr>\n",
       "      <th>2018</th>\n",
       "      <td>341000.0</td>\n",
       "      <td>509000.0</td>\n",
       "      <td>317750.0</td>\n",
       "      <td>318500.0</td>\n",
       "      <td>410000.0</td>\n",
       "      <td>1130000.0</td>\n",
       "      <td>535000.0</td>\n",
       "      <td>827500.0</td>\n",
       "      <td>350000.0</td>\n",
       "      <td>832000.0</td>\n",
       "      <td>...</td>\n",
       "      <td>336000.0</td>\n",
       "      <td>477500.0</td>\n",
       "      <td>972500.0</td>\n",
       "      <td>671000.0</td>\n",
       "      <td>501000.0</td>\n",
       "      <td>766000.0</td>\n",
       "      <td>482000.0</td>\n",
       "      <td>615000.0</td>\n",
       "      <td>285000.0</td>\n",
       "      <td>548250.0</td>\n",
       "    </tr>\n",
       "    <tr>\n",
       "      <th>2019</th>\n",
       "      <td>340750.0</td>\n",
       "      <td>566060.0</td>\n",
       "      <td>310000.0</td>\n",
       "      <td>320000.0</td>\n",
       "      <td>419500.0</td>\n",
       "      <td>975000.0</td>\n",
       "      <td>585000.0</td>\n",
       "      <td>937500.0</td>\n",
       "      <td>372000.0</td>\n",
       "      <td>835000.0</td>\n",
       "      <td>...</td>\n",
       "      <td>355500.0</td>\n",
       "      <td>481000.0</td>\n",
       "      <td>977571.5</td>\n",
       "      <td>715000.0</td>\n",
       "      <td>480000.0</td>\n",
       "      <td>682000.0</td>\n",
       "      <td>507500.0</td>\n",
       "      <td>640000.0</td>\n",
       "      <td>303200.0</td>\n",
       "      <td>576000.0</td>\n",
       "    </tr>\n",
       "  </tbody>\n",
       "</table>\n",
       "<p>5 rows × 68 columns</p>\n",
       "</div>"
      ],
      "text/plain": [
       "NBHD_ID          1         3         4         5         6          7   \\\n",
       "SALE_YEAR                                                                \n",
       "2015       235000.0  399500.0  211500.0  210000.0  305500.0   811020.0   \n",
       "2016       263875.0  460000.0  227500.0  230000.0  345000.0   960000.0   \n",
       "2017       302470.0  470000.0  275000.0  289500.0  370500.0  1125000.0   \n",
       "2018       341000.0  509000.0  317750.0  318500.0  410000.0  1130000.0   \n",
       "2019       340750.0  566060.0  310000.0  320000.0  419500.0   975000.0   \n",
       "\n",
       "NBHD_ID          8         9         11        12  ...        68        69  \\\n",
       "SALE_YEAR                                          ...                       \n",
       "2015       422000.0  649000.0  252500.0  661500.0  ...  203250.0  353100.0   \n",
       "2016       460000.0  610906.0  289950.0  740000.0  ...  227000.0  407000.0   \n",
       "2017       493500.0  790000.0  348800.0  708750.0  ...  300000.0  450000.0   \n",
       "2018       535000.0  827500.0  350000.0  832000.0  ...  336000.0  477500.0   \n",
       "2019       585000.0  937500.0  372000.0  835000.0  ...  355500.0  481000.0   \n",
       "\n",
       "NBHD_ID          70        71        72        73        74        75  \\\n",
       "SALE_YEAR                                                               \n",
       "2015       781500.0  575000.0  347450.0  656000.0  378000.0  502000.0   \n",
       "2016       887500.0  580000.0  445000.0  650000.0  477000.0  530000.0   \n",
       "2017       915000.0  656000.0  435000.0  650000.0  472500.0  580000.0   \n",
       "2018       972500.0  671000.0  501000.0  766000.0  482000.0  615000.0   \n",
       "2019       977571.5  715000.0  480000.0  682000.0  507500.0  640000.0   \n",
       "\n",
       "NBHD_ID          76        77  \n",
       "SALE_YEAR                      \n",
       "2015       187000.0  429201.0  \n",
       "2016       225000.0  475000.0  \n",
       "2017       258850.0  526000.0  \n",
       "2018       285000.0  548250.0  \n",
       "2019       303200.0  576000.0  \n",
       "\n",
       "[5 rows x 68 columns]"
      ]
     },
     "execution_count": 7,
     "metadata": {},
     "output_type": "execute_result"
    }
   ],
   "source": [
    "# generate pivot table for neighborhood, sale date, and sale price adjusted\n",
    "\n",
    "dft = df_grouped[['NBHD_ID', 'SALE_YEAR', 'SALE_PRICE']]\n",
    "table = pd.pivot_table(dft, values='SALE_PRICE', index=['SALE_YEAR'],\n",
    "                    columns=['NBHD_ID'])\n",
    "print(\"Data Dimension:\", table.shape, \", should totaled:\", table.shape[0] * table.shape[1], \", missing data:\", table.isnull().sum().sum())\n",
    "table.tail(5)"
   ]
  },
  {
   "cell_type": "markdown",
   "metadata": {},
   "source": [
    "#### Step 2: Deal with missing data"
   ]
  },
  {
   "cell_type": "code",
   "execution_count": 8,
   "metadata": {},
   "outputs": [],
   "source": [
    "# deal with missing data since we would like to conduct a time series analysis\n",
    "from sklearn.experimental import enable_iterative_imputer\n",
    "from sklearn.impute import IterativeImputer, KNNImputer\n",
    "\n",
    "# multivariate feature imputation\n",
    "imp = IterativeImputer(max_iter = 10, random_state = 42)\n",
    "table_fit_mp = imp.fit_transform(table)\n",
    "\n",
    "# nearest neighborhood importation\n",
    "inn = KNNImputer(n_neighbors = 3, weights = \"uniform\")\n",
    "table_fit_nn = inn.fit_transform(table)\n",
    "\n",
    "# save imputed data\n",
    "\n",
    "table_fit_mp_df = pd.DataFrame(table_fit_mp, index = table.index, columns = table.columns)\n",
    "table_fit_nn_df = pd.DataFrame(table_fit_nn, index = table.index, columns = table.columns)\n",
    "\n",
    "table_fit_mp_df.to_csv('../Data/time_neighbor_table_fit_mp.csv')\n",
    "table_fit_nn_df.to_csv('../Data/time_neighbor_table_fit_nn.csv')"
   ]
  },
  {
   "cell_type": "markdown",
   "metadata": {},
   "source": [
    "#### Step 3: Add column['Last_Year_Price'] to the data set\n",
    "* This column stands for temporal information"
   ]
  },
  {
   "cell_type": "code",
   "execution_count": 9,
   "metadata": {
    "scrolled": true
   },
   "outputs": [
    {
     "data": {
      "text/html": [
       "<div>\n",
       "<style scoped>\n",
       "    .dataframe tbody tr th:only-of-type {\n",
       "        vertical-align: middle;\n",
       "    }\n",
       "\n",
       "    .dataframe tbody tr th {\n",
       "        vertical-align: top;\n",
       "    }\n",
       "\n",
       "    .dataframe thead th {\n",
       "        text-align: right;\n",
       "    }\n",
       "</style>\n",
       "<table border=\"1\" class=\"dataframe\">\n",
       "  <thead>\n",
       "    <tr style=\"text-align: right;\">\n",
       "      <th></th>\n",
       "      <th>SALE_YEAR</th>\n",
       "      <th>NBHD_ID</th>\n",
       "      <th>SALE_PRICE</th>\n",
       "      <th>Last_Year_Price</th>\n",
       "    </tr>\n",
       "  </thead>\n",
       "  <tbody>\n",
       "    <tr>\n",
       "      <th>1</th>\n",
       "      <td>2001</td>\n",
       "      <td>1</td>\n",
       "      <td>159900.0</td>\n",
       "      <td>139900.0</td>\n",
       "    </tr>\n",
       "    <tr>\n",
       "      <th>2</th>\n",
       "      <td>2002</td>\n",
       "      <td>1</td>\n",
       "      <td>168500.0</td>\n",
       "      <td>159900.0</td>\n",
       "    </tr>\n",
       "    <tr>\n",
       "      <th>3</th>\n",
       "      <td>2003</td>\n",
       "      <td>1</td>\n",
       "      <td>167375.0</td>\n",
       "      <td>168500.0</td>\n",
       "    </tr>\n",
       "    <tr>\n",
       "      <th>4</th>\n",
       "      <td>2004</td>\n",
       "      <td>1</td>\n",
       "      <td>175000.0</td>\n",
       "      <td>167375.0</td>\n",
       "    </tr>\n",
       "    <tr>\n",
       "      <th>5</th>\n",
       "      <td>2005</td>\n",
       "      <td>1</td>\n",
       "      <td>180947.5</td>\n",
       "      <td>175000.0</td>\n",
       "    </tr>\n",
       "  </tbody>\n",
       "</table>\n",
       "</div>"
      ],
      "text/plain": [
       "   SALE_YEAR NBHD_ID  SALE_PRICE  Last_Year_Price\n",
       "1       2001       1    159900.0         139900.0\n",
       "2       2002       1    168500.0         159900.0\n",
       "3       2003       1    167375.0         168500.0\n",
       "4       2004       1    175000.0         167375.0\n",
       "5       2005       1    180947.5         175000.0"
      ]
     },
     "execution_count": 9,
     "metadata": {},
     "output_type": "execute_result"
    }
   ],
   "source": [
    "# prepare dataframe from data (missing values were multivariate feature imputed)\n",
    "fit_mp_df = table_fit_mp_df.rename_axis(None, axis=1).reset_index()\n",
    "\n",
    "df_mp = fit_mp_df.melt(id_vars=['SALE_YEAR'])\n",
    "df_mp.rename(columns={'variable': 'NBHD_ID', 'value': 'SALE_PRICE'}, inplace=True)\n",
    "\n",
    "# correlation with last year price\n",
    "df_mp_tm = df_mp.copy()\n",
    "df_mp_tm['Last_Year_Price'] = df_mp_tm.groupby(['NBHD_ID'])['SALE_PRICE'].shift()\n",
    "df_mp_tm = df_mp_tm.dropna()\n",
    "\n",
    "df_mp_tm.head()"
   ]
  },
  {
   "cell_type": "markdown",
   "metadata": {},
   "source": [
    "#### Step 4: Add neighboring neighborhood data to the data set\n",
    "* Each neighborhood is surrounded by several neighborhoods. This spatial information is recorded in one document (Neighborhood_neighbors.txt). \n",
    "* For each neighborhood, add its neighbors median house price information"
   ]
  },
  {
   "cell_type": "code",
   "execution_count": 10,
   "metadata": {
    "scrolled": false
   },
   "outputs": [
    {
     "name": "stdout",
     "output_type": "stream",
     "text": [
      "Neighboring neighborhoods: \n",
      "   NBHD_ID          neighbours\n",
      "0        1  3,76,54,43,4,50,67\n",
      "1       10  41,2,9,47,16,63,26\n",
      "2       11          29,62,52,8\n",
      "3       12       22,15,9,14,20\n",
      "4       13    7,70,22,31,20,37\n",
      "\n",
      "Median neighborhood sale price: \n",
      "   SALE_YEAR NBHD_ID  SALE_PRICE  Last_Year_Price\n",
      "1       2001       1    159900.0         139900.0\n",
      "2       2002       1    168500.0         159900.0\n",
      "3       2003       1    167375.0         168500.0\n",
      "4       2004       1    175000.0         167375.0\n",
      "5       2005       1    180947.5         175000.0\n",
      "\n",
      "After Merge: \n"
     ]
    },
    {
     "data": {
      "text/html": [
       "<div>\n",
       "<style scoped>\n",
       "    .dataframe tbody tr th:only-of-type {\n",
       "        vertical-align: middle;\n",
       "    }\n",
       "\n",
       "    .dataframe tbody tr th {\n",
       "        vertical-align: top;\n",
       "    }\n",
       "\n",
       "    .dataframe thead th {\n",
       "        text-align: right;\n",
       "    }\n",
       "</style>\n",
       "<table border=\"1\" class=\"dataframe\">\n",
       "  <thead>\n",
       "    <tr style=\"text-align: right;\">\n",
       "      <th></th>\n",
       "      <th>SALE_YEAR</th>\n",
       "      <th>NBHD_ID</th>\n",
       "      <th>SALE_PRICE</th>\n",
       "      <th>Last_Year_Price</th>\n",
       "      <th>Median_Neighbor_Price</th>\n",
       "      <th>Median_Neighbor_Last_Year_Price</th>\n",
       "      <th>Last_Year_Price_diff</th>\n",
       "      <th>Median_Last_Year_Price_diff</th>\n",
       "    </tr>\n",
       "  </thead>\n",
       "  <tbody>\n",
       "    <tr>\n",
       "      <th>1</th>\n",
       "      <td>2002</td>\n",
       "      <td>1</td>\n",
       "      <td>168500.0</td>\n",
       "      <td>159900.0</td>\n",
       "      <td>162000.0</td>\n",
       "      <td>159000.0</td>\n",
       "      <td>20000.0</td>\n",
       "      <td>13550.0</td>\n",
       "    </tr>\n",
       "    <tr>\n",
       "      <th>2</th>\n",
       "      <td>2003</td>\n",
       "      <td>1</td>\n",
       "      <td>167375.0</td>\n",
       "      <td>168500.0</td>\n",
       "      <td>163000.0</td>\n",
       "      <td>162000.0</td>\n",
       "      <td>8600.0</td>\n",
       "      <td>3000.0</td>\n",
       "    </tr>\n",
       "    <tr>\n",
       "      <th>3</th>\n",
       "      <td>2004</td>\n",
       "      <td>1</td>\n",
       "      <td>175000.0</td>\n",
       "      <td>167375.0</td>\n",
       "      <td>173750.0</td>\n",
       "      <td>163000.0</td>\n",
       "      <td>-1125.0</td>\n",
       "      <td>1000.0</td>\n",
       "    </tr>\n",
       "    <tr>\n",
       "      <th>4</th>\n",
       "      <td>2005</td>\n",
       "      <td>1</td>\n",
       "      <td>180947.5</td>\n",
       "      <td>175000.0</td>\n",
       "      <td>163000.0</td>\n",
       "      <td>173750.0</td>\n",
       "      <td>7625.0</td>\n",
       "      <td>10750.0</td>\n",
       "    </tr>\n",
       "    <tr>\n",
       "      <th>5</th>\n",
       "      <td>2006</td>\n",
       "      <td>1</td>\n",
       "      <td>160000.0</td>\n",
       "      <td>180947.5</td>\n",
       "      <td>150000.0</td>\n",
       "      <td>163000.0</td>\n",
       "      <td>5947.5</td>\n",
       "      <td>-10750.0</td>\n",
       "    </tr>\n",
       "  </tbody>\n",
       "</table>\n",
       "</div>"
      ],
      "text/plain": [
       "   SALE_YEAR  NBHD_ID  SALE_PRICE  Last_Year_Price  Median_Neighbor_Price  \\\n",
       "1       2002        1    168500.0         159900.0               162000.0   \n",
       "2       2003        1    167375.0         168500.0               163000.0   \n",
       "3       2004        1    175000.0         167375.0               173750.0   \n",
       "4       2005        1    180947.5         175000.0               163000.0   \n",
       "5       2006        1    160000.0         180947.5               150000.0   \n",
       "\n",
       "   Median_Neighbor_Last_Year_Price  Last_Year_Price_diff  \\\n",
       "1                         159000.0               20000.0   \n",
       "2                         162000.0                8600.0   \n",
       "3                         163000.0               -1125.0   \n",
       "4                         173750.0                7625.0   \n",
       "5                         163000.0                5947.5   \n",
       "\n",
       "   Median_Last_Year_Price_diff  \n",
       "1                      13550.0  \n",
       "2                       3000.0  \n",
       "3                       1000.0  \n",
       "4                      10750.0  \n",
       "5                     -10750.0  "
      ]
     },
     "execution_count": 10,
     "metadata": {},
     "output_type": "execute_result"
    }
   ],
   "source": [
    "# load neighboring neighborhood data\n",
    "neighbors = pd.read_table('../Data/Neighborhood_neighbors.txt')\n",
    "print('Neighboring neighborhoods: ')\n",
    "print(neighbors.head())\n",
    "print('\\nMedian neighborhood sale price: ')\n",
    "print(df_mp_tm.head())\n",
    "\n",
    "# merge two dataset\n",
    "neighbor_prices = pd.DataFrame()\n",
    "for row in neighbors.iterrows():\n",
    "    nid = row[1]['NBHD_ID']\n",
    "    id_neighbors = row[1]['neighbours'].split(',')\n",
    "    id_neighbors = list(map(int, id_neighbors)) \n",
    "    prices = df_mp_tm[df_mp_tm['NBHD_ID'].isin(id_neighbors)][['SALE_YEAR', 'NBHD_ID', 'SALE_PRICE',\n",
    "                                                               'Last_Year_Price']].groupby(['SALE_YEAR']).median().reset_index()\n",
    "    prices.rename(columns={'Last_Year_Price': 'Median_Neighbor_Last_Year_Price'}, inplace=True)\n",
    "    prices.rename(columns={'SALE_PRICE': 'Median_Neighbor_Price'}, inplace=True)\n",
    "\n",
    "    prices['NBHD_ID'] = nid\n",
    "        \n",
    "    neighbor_prices = pd.concat([neighbor_prices, prices])\n",
    "\n",
    "df_mp_tm_sp = pd.merge(df_mp_tm, neighbor_prices, left_on = ['SALE_YEAR', 'NBHD_ID'], right_on = ['SALE_YEAR', 'NBHD_ID'])\n",
    "df_mp_tm_sp = df_mp_tm_sp.fillna(0)\n",
    "\n",
    "df_mp_tm_sp['Last_Year_Price_diff'] = df_mp_tm_sp.groupby(['NBHD_ID'])['Last_Year_Price'].diff()\n",
    "df_mp_tm_sp['Median_Last_Year_Price_diff'] = df_mp_tm_sp.groupby(['NBHD_ID'])['Median_Neighbor_Last_Year_Price'].diff()\n",
    "df_mp_tm_sp = df_mp_tm_sp.dropna()\n",
    "\n",
    "print('\\nAfter Merge: ')\n",
    "df_mp_tm_sp.head()"
   ]
  },
  {
   "cell_type": "code",
   "execution_count": 11,
   "metadata": {},
   "outputs": [
    {
     "data": {
      "image/png": "[encoded data removed]",
      "text/plain": [
       "<Figure size 1008x360 with 2 Axes>"
      ]
     },
     "metadata": {
      "needs_background": "light"
     },
     "output_type": "display_data"
    }
   ],
   "source": [
    "# test spatial correlation\n",
    "test = df_mp_tm_sp[df_mp_tm_sp['NBHD_ID'] == 6]\n",
    "fig, (ax1, ax2) = plt.subplots(1, 2, figsize= (14,5))\n",
    "ax1.scatter(test['Median_Neighbor_Last_Year_Price'], test['Last_Year_Price'])\n",
    "ax2.scatter(test['Median_Neighbor_Last_Year_Price'], test['SALE_PRICE'])\n",
    "plt.show()"
   ]
  },
  {
   "cell_type": "markdown",
   "metadata": {},
   "source": [
    "### Linear Regression"
   ]
  },
  {
   "cell_type": "code",
   "execution_count": 12,
   "metadata": {},
   "outputs": [
    {
     "name": "stdout",
     "output_type": "stream",
     "text": [
      "Train Root Mean Squared Error: 87745\n",
      "Train Median absolute error: 24553.48\n",
      "Train R squared: 0.83\n",
      "Test Root Mean Squared Error: 57025\n",
      "Test Median absolute error: 24188.39\n",
      "Test R squared: 0.90\n"
     ]
    }
   ],
   "source": [
    "##### from sklearn.metrics import mean_squared_error, r2_score, median_absolute_error\n",
    "from sklearn.linear_model import LassoCV, LinearRegression\n",
    "from sklearn.model_selection import train_test_split\n",
    "from sklearn.metrics import mean_squared_error, median_absolute_error, r2_score\n",
    "\n",
    "dfa = df_mp_tm_sp.copy()\n",
    "\n",
    "dfy = dfa[['SALE_PRICE']]\n",
    "dfx = dfa[['Last_Year_Price', 'Median_Neighbor_Last_Year_Price']]\n",
    "\n",
    "x_train, x_test, y_train, y_test = train_test_split(dfx, dfy, \n",
    "                                                    test_size = 0.3, random_state = 42, shuffle = True)\n",
    "lr = LinearRegression()\n",
    "lr.fit(x_train, y_train)\n",
    "y_train_pred = lr.predict(x_train)\n",
    "y_test_pred = lr.predict(x_test)\n",
    "\n",
    "print('Train Root Mean Squared Error: %d' % np.sqrt(mean_squared_error(y_train, y_train_pred)))\n",
    "print(\"Train Median absolute error: %.2f\" % median_absolute_error(y_train, y_train_pred))\n",
    "print('Train R squared: %.2f' % r2_score(y_train, y_train_pred))\n",
    "\n",
    "print('Test Root Mean Squared Error: %d' % np.sqrt(mean_squared_error(y_test, y_test_pred)))\n",
    "print(\"Test Median absolute error: %.2f\" % median_absolute_error(y_test, y_test_pred))\n",
    "print('Test R squared: %.2f' % r2_score(y_test, y_test_pred))"
   ]
  },
  {
   "cell_type": "code",
   "execution_count": 13,
   "metadata": {
    "scrolled": true
   },
   "outputs": [
    {
     "name": "stderr",
     "output_type": "stream",
     "text": [
      "c:\\python37\\lib\\site-packages\\sklearn\\externals\\joblib\\__init__.py:15: FutureWarning: sklearn.externals.joblib is deprecated in 0.21 and will be removed in 0.23. Please import this functionality directly from joblib, which can be installed with: pip install joblib. If this warning is raised when loading pickled models, you may need to re-serialize those models with scikit-learn 0.21+.\n",
      "  warnings.warn(msg, category=FutureWarning)\n"
     ]
    },
    {
     "data": {
      "text/plain": [
       "['../Models/neighborhood_price_prediction_lr.pkl']"
      ]
     },
     "execution_count": 13,
     "metadata": {},
     "output_type": "execute_result"
    }
   ],
   "source": [
    "import pickle\n",
    "from sklearn.externals import joblib\n",
    "\n",
    "joblib.dump(lr, '../Models/neighborhood_price_prediction_lr.pkl') "
   ]
  },
  {
   "cell_type": "markdown",
   "metadata": {},
   "source": [
    "### Prediction of Single-family House Median Price in 2020"
   ]
  },
  {
   "cell_type": "code",
   "execution_count": 14,
   "metadata": {},
   "outputs": [
    {
     "name": "stderr",
     "output_type": "stream",
     "text": [
      "c:\\python37\\lib\\site-packages\\pandas\\core\\frame.py:3997: SettingWithCopyWarning: \n",
      "A value is trying to be set on a copy of a slice from a DataFrame\n",
      "\n",
      "See the caveats in the documentation: https://pandas.pydata.org/pandas-docs/stable/user_guide/indexing.html#returning-a-view-versus-a-copy\n",
      "  errors=errors,\n",
      "c:\\python37\\lib\\site-packages\\ipykernel_launcher.py:3: SettingWithCopyWarning: \n",
      "A value is trying to be set on a copy of a slice from a DataFrame.\n",
      "Try using .loc[row_indexer,col_indexer] = value instead\n",
      "\n",
      "See the caveats in the documentation: https://pandas.pydata.org/pandas-docs/stable/user_guide/indexing.html#returning-a-view-versus-a-copy\n",
      "  This is separate from the ipykernel package so we can avoid doing imports until\n",
      "c:\\python37\\lib\\site-packages\\pandas\\core\\frame.py:4133: SettingWithCopyWarning: \n",
      "A value is trying to be set on a copy of a slice from a DataFrame\n",
      "\n",
      "See the caveats in the documentation: https://pandas.pydata.org/pandas-docs/stable/user_guide/indexing.html#returning-a-view-versus-a-copy\n",
      "  errors=errors,\n",
      "c:\\python37\\lib\\site-packages\\ipykernel_launcher.py:6: SettingWithCopyWarning: \n",
      "A value is trying to be set on a copy of a slice from a DataFrame.\n",
      "Try using .loc[row_indexer,col_indexer] = value instead\n",
      "\n",
      "See the caveats in the documentation: https://pandas.pydata.org/pandas-docs/stable/user_guide/indexing.html#returning-a-view-versus-a-copy\n",
      "  \n"
     ]
    }
   ],
   "source": [
    "x_pred = dfa[dfa['SALE_YEAR'] == 2019]\n",
    "x_pred.drop(columns = ['Last_Year_Price', 'Median_Neighbor_Last_Year_Price', 'Last_Year_Price_diff', 'Median_Last_Year_Price_diff'], inplace = True)\n",
    "x_pred['SALE_YEAR'] = 2020\n",
    "x_pred.rename(columns = {'SALE_PRICE': 'Last_Year_Price', 'Median_Neighbor_Price': 'Median_Neighbor_Last_Year_Price'}, inplace = True)\n",
    "y_pred = lr.predict(x_pred[['Last_Year_Price', 'Median_Neighbor_Last_Year_Price']])\n",
    "x_pred['SALE_PRICE'] = y_pred\n",
    "\n",
    "predicted_neighbor_price = pd.concat([x_pred, dfa[['SALE_YEAR','NBHD_ID','Last_Year_Price','Median_Neighbor_Last_Year_Price','SALE_PRICE']]])\n",
    "predicted_neighbor_price.to_csv('../Data/predicted_neighbor_price.csv')"
   ]
  }
 ],
 "metadata": {
  "kernelspec": {
   "display_name": "Python 3",
   "language": "python",
   "name": "python3"
  },
  "language_info": {
   "codemirror_mode": {
    "name": "ipython",
    "version": 3
   },
   "file_extension": ".py",
   "mimetype": "text/x-python",
   "name": "python",
   "nbconvert_exporter": "python",
   "pygments_lexer": "ipython3",
   "version": "3.7.6"
  }
 },
 "nbformat": 4,
 "nbformat_minor": 4
}
